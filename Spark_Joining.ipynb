{
 "cells": [
  {
   "cell_type": "code",
   "execution_count": null,
   "metadata": {
    "colab": {
     "base_uri": "https://localhost:8080/"
    },
    "id": "DfQsKnrx7Lpa",
    "outputId": "11a07ebc-ed77-4940-b769-3a99ea8a55da"
   },
   "outputs": [
    {
     "name": "stdout",
     "output_type": "stream",
     "text": [
      "Collecting pyspark\n",
      "  Downloading pyspark-3.5.0.tar.gz (316.9 MB)\n",
      "\u001b[2K     \u001b[90m━━━━━━━━━━━━━━━━━━━━━━━━━━━━━━━━━━━━━━━━\u001b[0m \u001b[32m316.9/316.9 MB\u001b[0m \u001b[31m4.6 MB/s\u001b[0m eta \u001b[36m0:00:00\u001b[0m\n",
      "\u001b[?25h  Preparing metadata (setup.py) ... \u001b[?25l\u001b[?25hdone\n",
      "Requirement already satisfied: py4j==0.10.9.7 in /usr/local/lib/python3.10/dist-packages (from pyspark) (0.10.9.7)\n",
      "Building wheels for collected packages: pyspark\n",
      "  Building wheel for pyspark (setup.py) ... \u001b[?25l\u001b[?25hdone\n",
      "  Created wheel for pyspark: filename=pyspark-3.5.0-py2.py3-none-any.whl size=317425344 sha256=62d7ca2101e8edb4de5bf4bcb98bd7a2f1512df726a30d061306c486ba2c14ba\n",
      "  Stored in directory: /root/.cache/pip/wheels/41/4e/10/c2cf2467f71c678cfc8a6b9ac9241e5e44a01940da8fbb17fc\n",
      "Successfully built pyspark\n",
      "Installing collected packages: pyspark\n",
      "Successfully installed pyspark-3.5.0\n"
     ]
    }
   ],
   "source": [
    "pip install pyspark"
   ]
  },
  {
   "cell_type": "code",
   "execution_count": null,
   "metadata": {
    "colab": {
     "base_uri": "https://localhost:8080/"
    },
    "id": "WINR_Opl7MZ2",
    "outputId": "95b48e94-8c77-4da6-8fa1-4ea1f16524df"
   },
   "outputs": [
    {
     "name": "stdout",
     "output_type": "stream",
     "text": [
      "Collecting findspark\n",
      "  Downloading findspark-2.0.1-py2.py3-none-any.whl (4.4 kB)\n",
      "Installing collected packages: findspark\n",
      "Successfully installed findspark-2.0.1\n"
     ]
    }
   ],
   "source": [
    "pip install findspark"
   ]
  },
  {
   "cell_type": "code",
   "execution_count": null,
   "metadata": {
    "id": "409rb5b47SAg"
   },
   "outputs": [],
   "source": [
    "import pyspark\n",
    "import findspark\n",
    "findspark.init()\n",
    "from pyspark.sql import SparkSession\n",
    "spark = SparkSession.builder.appName('capstone').getOrCreate()"
   ]
  },
  {
   "cell_type": "code",
   "execution_count": null,
   "metadata": {
    "id": "-364vduq7XP5"
   },
   "outputs": [],
   "source": [
    "products = spark.read.csv(\"products.csv\",header=True)"
   ]
  },
  {
   "cell_type": "code",
   "execution_count": null,
   "metadata": {
    "id": "8ihD8saZ8q01"
   },
   "outputs": [],
   "source": [
    "orders=spark.read.csv(\"orders.csv\",header=True)"
   ]
  },
  {
   "cell_type": "code",
   "execution_count": null,
   "metadata": {
    "id": "ftq9iCXz8zO1"
   },
   "outputs": [],
   "source": [
    "customers=spark.read.csv(\"customers.csv\",header=True)"
   ]
  },
  {
   "cell_type": "code",
   "execution_count": null,
   "metadata": {
    "colab": {
     "base_uri": "https://localhost:8080/"
    },
    "id": "arFYzacm859d",
    "outputId": "352c9e3b-49ca-485a-c8f7-4be00a492bde"
   },
   "outputs": [
    {
     "name": "stdout",
     "output_type": "stream",
     "text": [
      "+---+---------+--------------------+-------------+------------------+------+--------------------+--------------------+\n",
      "| ID| Category|          Created At|          Ean|             Price|Rating|               Title|              Vendor|\n",
      "+---+---------+--------------------+-------------+------------------+------+--------------------+--------------------+\n",
      "|  1|    Gizmo|2017-07-19T19:44:...|1018947080336|29.463261130679875|   4.6| Rustic Paper Wallet|Swaniawski, Caspe...|\n",
      "|  2|Doohickey|2019-04-11T08:49:...|7663515285824| 70.07989613071763|   0.0|  Small Marble Shoes|Balistreri-Ankunding|\n",
      "|  3|Doohickey|2018-09-08T22:03:...|4966277046676|35.388744881539054|   4.0|Synergistic Grani...|Murray, Watsica a...|\n",
      "|  4|Doohickey|2018-03-06T02:53:...|4134502155718| 73.99178100854834|   3.0|Enormous Aluminum...|Regan Bradtke and...|\n",
      "|  5|   Gadget|2016-10-03T01:47:...|5499736705597|  82.7450976850356|   4.0|Enormous Marble W...|Price, Schultz an...|\n",
      "+---+---------+--------------------+-------------+------------------+------+--------------------+--------------------+\n",
      "only showing top 5 rows\n",
      "\n"
     ]
    }
   ],
   "source": [
    "products.show(5)"
   ]
  },
  {
   "cell_type": "code",
   "execution_count": null,
   "metadata": {
    "colab": {
     "base_uri": "https://localhost:8080/"
    },
    "id": "bKR9fAh188fx",
    "outputId": "ee189d0a-7591-4695-bf8f-ee1b4d3c722d"
   },
   "outputs": [
    {
     "name": "stdout",
     "output_type": "stream",
     "text": [
      "+---+--------------------+-----------------+----------+--------+------------------+----+------------------+-------+\n",
      "| ID|          Created At|         Discount|Product ID|Quantity|          Subtotal| Tax|             Total|User ID|\n",
      "+---+--------------------+-----------------+----------+--------+------------------+----+------------------+-------+\n",
      "|  1|2019-02-11T21:40:...|             NULL|        14|       2|37.648145389078365|2.07|39.718145389078366|      1|\n",
      "|  2|2018-05-15T08:04:...|             NULL|       123|       3|110.93145648834248| 6.1| 117.0376564084763|      1|\n",
      "|  3|2019-12-06T22:22:...|6.416679208849759|       105|       2|52.723521442619514| 2.9| 55.62208681964182|      1|\n",
      "|  4|2019-08-22T16:30:...|             NULL|        94|       6|109.21864156655383|6.01| 115.2207354961295|      1|\n",
      "|  5|2018-10-10T03:34:...|             NULL|       132|       5|127.88197029833711|7.03|134.94192935296473|      1|\n",
      "+---+--------------------+-----------------+----------+--------+------------------+----+------------------+-------+\n",
      "only showing top 5 rows\n",
      "\n"
     ]
    }
   ],
   "source": [
    "orders.show(5)"
   ]
  },
  {
   "cell_type": "code",
   "execution_count": null,
   "metadata": {
    "colab": {
     "base_uri": "https://localhost:8080/"
    },
    "id": "BQDQGSCR9m2A",
    "outputId": "536eea7b-cf36-40de-ec16-78be9cbca647"
   },
   "outputs": [
    {
     "name": "stdout",
     "output_type": "stream",
     "text": [
      "+---+-------------------+--------------------+----------+-----------+--------------------+--------------------+-----------------+------------+--------------------+---------+-----+-----+\n",
      "| ID|               Name|             Address|Birth Date|       City|          Created At|               Email|         Latitude|   Longitude|            Password|   Source|State|  Zip|\n",
      "+---+-------------------+--------------------+----------+-----------+--------------------+--------------------+-----------------+------------+--------------------+---------+-----+-----+\n",
      "|  1|       Hudson Borer|9611-9809 West Ro...|1986-12-12| Wood River|2017-10-07T01:34:...|borer-hudson@yaho...|40.71314890000001| -98.5259864|ccca881f-3e4b-4e5...|  Twitter|   NE|68883|\n",
      "|  2|Domenica Williamson|      101 4th Street|1967-06-10|  Searsboro|2018-04-09T12:10:...|williamson-domeni...|       41.5813224| -92.6991321|eafc45bf-cf8e-4c9...|Affiliate|   IA|50242|\n",
      "|  3|        Lina Heaney|29494 Anderson Drive|1961-12-18|  Sandstone|2017-06-27T06:06:...|lina.heaney@yahoo...|46.11973039999999| -92.8416108|36f67891-34e5-443...| Facebook|   MN|55072|\n",
      "|  4|       Arnold Adams|2-7900 Cuerno Ver...|1992-08-12|        Rye|2019-02-21T13:59:...|adams.arnold@gmai...|       37.9202933|-104.9726909|537a727b-7525-44a...|   Google|   CO|81069|\n",
      "|  5|  Dominique Leffler|  761 Fish Hill Road|1974-04-20|Beaver Dams|2017-09-05T03:36:...|leffler.dominique...|        42.348954|  -77.056681|6a802b6c-4da8-488...|  Twitter|   NY|14812|\n",
      "+---+-------------------+--------------------+----------+-----------+--------------------+--------------------+-----------------+------------+--------------------+---------+-----+-----+\n",
      "only showing top 5 rows\n",
      "\n"
     ]
    }
   ],
   "source": [
    "customers.show(5)"
   ]
  },
  {
   "cell_type": "code",
   "execution_count": null,
   "metadata": {
    "colab": {
     "base_uri": "https://localhost:8080/"
    },
    "id": "vfr6b9cr-FzY",
    "outputId": "3b0086db-0d01-479e-84dd-3858b6fc8813"
   },
   "outputs": [
    {
     "name": "stdout",
     "output_type": "stream",
     "text": [
      "+---+------------+--------------------+----------+----------+--------------------+--------------------+-----------------+-----------+--------------------+--------+-----+-----+---+--------------------+------------------+----------+--------+------------------+-----+------------------+-------+---+---------+--------------------+-------------+------------------+------+--------------------+--------------------+\n",
      "| ID|        Name|             Address|Birth Date|      City|          Created At|               Email|         Latitude|  Longitude|            Password|  Source|State|  Zip| ID|          Created At|          Discount|Product ID|Quantity|          Subtotal|  Tax|             Total|User ID| ID| Category|          Created At|          Ean|             Price|Rating|               Title|              Vendor|\n",
      "+---+------------+--------------------+----------+----------+--------------------+--------------------+-----------------+-----------+--------------------+--------+-----+-----+---+--------------------+------------------+----------+--------+------------------+-----+------------------+-------+---+---------+--------------------+-------------+------------------+------+--------------------+--------------------+\n",
      "|  1|Hudson Borer|9611-9809 West Ro...|1986-12-12|Wood River|2017-10-07T01:34:...|borer-hudson@yaho...|40.71314890000001|-98.5259864|ccca881f-3e4b-4e5...| Twitter|   NE|68883|  1|2019-02-11T21:40:...|              NULL|        14|       2|37.648145389078365| 2.07|39.718145389078366|      1| 14|   Widget|2017-12-31T14:41:...|8833419218504| 25.09876359271891|   4.0|Awesome Concrete ...|     McClure-Lockman|\n",
      "|  1|Hudson Borer|9611-9809 West Ro...|1986-12-12|Wood River|2017-10-07T01:34:...|borer-hudson@yaho...|40.71314890000001|-98.5259864|ccca881f-3e4b-4e5...| Twitter|   NE|68883|  2|2018-05-15T08:04:...|              NULL|       123|       3|110.93145648834248|  6.1| 117.0376564084763|      1|123|    Gizmo|2017-11-16T13:53:...|3621077291879| 73.95430432556165|   2.0|Mediocre Wooden B...|       Flatley-Kunde|\n",
      "|  1|Hudson Borer|9611-9809 West Ro...|1986-12-12|Wood River|2017-10-07T01:34:...|borer-hudson@yaho...|40.71314890000001|-98.5259864|ccca881f-3e4b-4e5...| Twitter|   NE|68883|  3|2019-12-06T22:22:...| 6.416679208849759|       105|       2|52.723521442619514|  2.9| 55.62208681964182|      1|105|   Gadget|2016-06-16T00:07:...|1790740189682|35.149014295079674|   4.0|Fantastic Wool Shirt|Jerrod McLaughlin...|\n",
      "|  1|Hudson Borer|9611-9809 West Ro...|1986-12-12|Wood River|2017-10-07T01:34:...|borer-hudson@yaho...|40.71314890000001|-98.5259864|ccca881f-3e4b-4e5...| Twitter|   NE|68883|  4|2019-08-22T16:30:...|              NULL|        94|       6|109.21864156655383| 6.01| 115.2207354961295|      1| 94|   Widget|2017-08-19T21:28:...|9753065345920| 72.81242771103588|   0.0|Awesome Bronze Plate|        Nolan-Heller|\n",
      "|  1|Hudson Borer|9611-9809 West Ro...|1986-12-12|Wood River|2017-10-07T01:34:...|borer-hudson@yaho...|40.71314890000001|-98.5259864|ccca881f-3e4b-4e5...| Twitter|   NE|68883|  5|2018-10-10T03:34:...|              NULL|       132|       5|127.88197029833711| 7.03|134.94192935296473|      1|132|   Widget|2018-04-01T01:51:...|7668932199532| 85.25464686555807|   3.7|   Sleek Steel Table|Marge Effertz Jr....|\n",
      "|  1|Hudson Borer|9611-9809 West Ro...|1986-12-12|Wood River|2017-10-07T01:34:...|borer-hudson@yaho...|40.71314890000001|-98.5259864|ccca881f-3e4b-4e5...| Twitter|   NE|68883|  6|2019-11-06T16:38:...|              NULL|        60|       3| 29.80214751859149| 1.64|31.441679133237017|      1| 60|Doohickey|2017-12-16T11:14:...|4819782507258| 19.86809834572766|   4.1|    Rustic Paper Car|     Stroman-Carroll|\n",
      "|  1|Hudson Borer|9611-9809 West Ro...|1986-12-12|Wood River|2017-10-07T01:34:...|borer-hudson@yaho...|40.71314890000001|-98.5259864|ccca881f-3e4b-4e5...| Twitter|   NE|68883|  7|2018-09-11T11:22:...|              NULL|        55|       5| 95.77128575934437| 5.27|101.06105102213039|      1| 55|   Gadget|2016-09-05T23:51:...|6575325360237| 63.84752383956291|   0.0|Mediocre Rubber S...|Considine, Lehner...|\n",
      "|  1|Hudson Borer|9611-9809 West Ro...|1986-12-12|Wood River|2017-10-07T01:34:...|borer-hudson@yaho...|40.71314890000001|-98.5259864|ccca881f-3e4b-4e5...| Twitter|   NE|68883|  8|2019-06-17T02:37:...| 8.653952930206964|        65|       7| 68.22769726470014| 3.75|  71.9646003804807|      1| 65|   Widget|2018-10-01T14:56:...|6409491343148|  45.4851315098001|   3.7|Ergonomic Silk Table|    Weimann-Cummings|\n",
      "|  1|Hudson Borer|9611-9809 West Ro...|1986-12-12|Wood River|2017-10-07T01:34:...|borer-hudson@yaho...|40.71314890000001|-98.5259864|ccca881f-3e4b-4e5...| Twitter|   NE|68883|  9|2017-05-03T16:00:...| 3.594742155259162|       184|      .3|  77.3982748679465| 4.26|  81.6742695904106|      1|184|   Widget|2017-04-03T18:01:...|4198118078267|  77.3982748679465|   3.6|Practical Granite...|       Gaylord-Lesch|\n",
      "|  1|Hudson Borer|9611-9809 West Ro...|1986-12-12|Wood River|2017-10-07T01:34:...|borer-hudson@yaho...|40.71314890000001|-98.5259864|ccca881f-3e4b-4e5...| Twitter|   NE|68883| 10|2020-01-17T01:44:...|              NULL|         6|       2| 97.43621265344382| 5.36|102.77055805103969|      1|  6|Doohickey|2017-03-29T05:43:...|2293343551454| 64.95747510229587|   3.8|    Small Marble Hat|         Nolan-Wolff|\n",
      "|  1|Hudson Borer|9611-9809 West Ro...|1986-12-12|Wood River|2017-10-07T01:34:...|borer-hudson@yaho...|40.71314890000001|-98.5259864|ccca881f-3e4b-4e5...| Twitter|   NE|68883| 11|2018-07-22T20:31:...|              NULL|        76|       6| 63.82421061366486| 3.51| 67.30535713840213|      1| 76|   Widget|2017-11-22T20:48:...|5065846711133| 42.54947374244324|   4.3|  Sleek Marble Clock|Koepp, Ondricka a...|\n",
      "|  3| Lina Heaney|29494 Anderson Drive|1961-12-18| Sandstone|2017-06-27T06:06:...|lina.heaney@yahoo...|46.11973039999999|-92.8416108|36f67891-34e5-443...|Facebook|   MN|55072| 12|2018-06-26T23:21:...|              NULL|         7|       7|148.22900526552291|10.19|158.44538230476374|      3|  7|Doohickey|2017-06-03T03:07:...|0157967025871| 98.81933684368194|   4.3|Aerodynamic Linen...|        Little-Pagac|\n",
      "|  3| Lina Heaney|29494 Anderson Drive|1961-12-18| Sandstone|2017-06-27T06:06:...|lina.heaney@yahoo...|46.11973039999999|-92.8416108|36f67891-34e5-443...|Facebook|   MN|55072| 13|2019-04-06T01:04:...|2.1173410336074987|        70|       2|57.493003808959784| 3.95| 61.42339339833593|      3| 70|   Widget|2017-10-03T13:35:...|8207931408888| 38.32866920597319|   3.6|  Small Rubber Clock|Izabella Dach I a...|\n",
      "|  3| Lina Heaney|29494 Anderson Drive|1961-12-18| Sandstone|2017-06-27T06:06:...|lina.heaney@yahoo...|46.11973039999999|-92.8416108|36f67891-34e5-443...|Facebook|   MN|55072| 14|2017-05-25T20:50:...|              NULL|       139|       4| 51.18512212784679| 3.52| 54.67137322414436|      3|139|Doohickey|2016-06-08T10:24:...|3301617687934| 51.18512212784679|   3.2|Lightweight Steel...|Wuckert, Murazik ...|\n",
      "|  3| Lina Heaney|29494 Anderson Drive|1961-12-18| Sandstone|2017-06-27T06:06:...|lina.heaney@yahoo...|46.11973039999999|-92.8416108|36f67891-34e5-443...|Facebook|   MN|55072| 15|2018-06-26T02:24:...|              NULL|       116|       5|114.42485125407785| 7.87|122.30918146348135|      3|116|    Gizmo|2018-09-12T15:23:...|5955704607626| 76.28323416938524|   4.2|Aerodynamic Concr...|       Denesik-Ortiz|\n",
      "|  3| Lina Heaney|29494 Anderson Drive|1961-12-18| Sandstone|2017-06-27T06:06:...|lina.heaney@yahoo...|46.11973039999999|-92.8416108|36f67891-34e5-443...|Facebook|   MN|55072| 16|2017-12-14T11:28:...|              NULL|        68|       1| 76.82895921539838| 5.28| 82.15964553750338|      3| 68|    Gizmo|2016-11-08T03:04:...|0096051986448| 76.82895921539838|   3.9|Heavy-Duty Copper...|Howe, Kiehn and P...|\n",
      "|  3| Lina Heaney|29494 Anderson Drive|1961-12-18| Sandstone|2017-06-27T06:06:...|lina.heaney@yahoo...|46.11973039999999|-92.8416108|36f67891-34e5-443...|Facebook|   MN|55072| 17|2020-02-06T12:14:...|              NULL|        48|       1|123.20884248534108| 8.47|131.65987891080385|      3| 48|    Gizmo|2018-02-20T21:54:...|4516685534489| 82.13922832356072|   3.3|Gorgeous Concrete...|       Kiehn-Pacocha|\n",
      "|  3| Lina Heaney|29494 Anderson Drive|1961-12-18| Sandstone|2017-06-27T06:06:...|lina.heaney@yahoo...|46.11973039999999|-92.8416108|36f67891-34e5-443...|Facebook|   MN|55072| 18|2020-04-10T23:29:...|              NULL|        12|       2|116.01427581618326| 7.98|123.93528398902329|      3| 12|    Gizmo|2017-11-12T14:51:...|9482467478850| 77.34285054412217|   4.4|  Sleek Paper Toucan|        Mueller-Dare|\n",
      "|  3| Lina Heaney|29494 Anderson Drive|1961-12-18| Sandstone|2017-06-27T06:06:...|lina.heaney@yahoo...|46.11973039999999|-92.8416108|36f67891-34e5-443...|Facebook|   MN|55072| 19|2019-02-14T07:28:...|              NULL|       136|       1|105.20402317157343| 7.23|112.53044509193751|      3|136|   Widget|2017-07-05T17:59:...|7570673549500| 70.13601544771562|   4.8|Mediocre Marble Lamp|Crona, Block and ...|\n",
      "|  3| Lina Heaney|29494 Anderson Drive|1961-12-18| Sandstone|2017-06-27T06:06:...|lina.heaney@yahoo...|46.11973039999999|-92.8416108|36f67891-34e5-443...|Facebook|   MN|55072| 20|2018-04-21T04:18:...| 9.480671222888349|       160|       4| 47.59120561297272| 3.27| 50.86583592650371|      3|160|   Gadget|2018-05-03T21:43:...|3685697688891|31.727470408648482|   5.0|Lightweight Linen...|    Oran D'Amore Inc|\n",
      "+---+------------+--------------------+----------+----------+--------------------+--------------------+-----------------+-----------+--------------------+--------+-----+-----+---+--------------------+------------------+----------+--------+------------------+-----+------------------+-------+---+---------+--------------------+-------------+------------------+------+--------------------+--------------------+\n",
      "only showing top 20 rows\n",
      "\n"
     ]
    }
   ],
   "source": [
    "customer_orders = customers.join(orders, customers[\"ID\"] == orders[\"User ID\"])\n",
    "\n",
    "combined = customer_orders.join(products, customer_orders[\"Product ID\"] == products[\"ID\"])\n",
    "\n",
    "combined.show()"
   ]
  },
  {
   "cell_type": "code",
   "execution_count": null,
   "metadata": {
    "colab": {
     "base_uri": "https://localhost:8080/"
    },
    "id": "R3IHAoge9v-2",
    "outputId": "78b42cea-955d-42a4-cc1f-15073449fc17"
   },
   "outputs": [
    {
     "name": "stdout",
     "output_type": "stream",
     "text": [
      "+-------------------+------------------+-------------+\n",
      "|               City|        TotalSales|TotalQuantity|\n",
      "+-------------------+------------------+-------------+\n",
      "|           DeRuyter|129.74883608352175|         10.0|\n",
      "|          Fairbanks| 6389.123328767112|        253.0|\n",
      "|            Shannon|1146.4334629763896|         46.0|\n",
      "|          West York|  898.225484719706|         28.0|\n",
      "|        Springfield|2011.3425790883814|        131.0|\n",
      "|      Bowling Green| 922.9827230198426|         43.0|\n",
      "|              Ryder|  668.923028231959|         42.0|\n",
      "|            Pukwana|1509.5891761453502|         39.0|\n",
      "|         Harrisburg| 351.7789519569911|         12.0|\n",
      "|             Auburn| 324.3136506099869|         24.0|\n",
      "|        River Falls| 1455.166101687321|         76.0|\n",
      "|           Brinkley| 686.5963271362704|         31.0|\n",
      "|           Harrison| 541.3065105285232|         16.0|\n",
      "|        Kings Point|2068.5231848599797|         62.0|\n",
      "|         Wolfe City| 712.3500245452483|         17.0|\n",
      "|            Outlook|235.65146220750114|         22.0|\n",
      "|Old Bridge Township| 2633.192062019655|        130.0|\n",
      "|         Wellington| 699.7382289074462|         35.0|\n",
      "|             Ulster|129.50942306492706|          2.0|\n",
      "|             Sultan|1706.3192238347378|         61.0|\n",
      "+-------------------+------------------+-------------+\n",
      "only showing top 20 rows\n",
      "\n"
     ]
    }
   ],
   "source": [
    "from pyspark.sql import SparkSession\n",
    "from pyspark.sql.functions import sum\n",
    "\n",
    "# Initialize Spark\n",
    "spark = SparkSession.builder.appName('SalesAnalysis').getOrCreate()\n",
    "\n",
    "\n",
    "\n",
    "# Group by city and calculate total sales, total quantity, etc.\n",
    "city_sales = combined.groupBy(\"City\").agg(\n",
    "    sum(\"Total\").alias(\"TotalSales\"),\n",
    "    sum(\"Quantity\").alias(\"TotalQuantity\")\n",
    ")\n",
    "\n",
    "# Group by state and calculate total sales, total quantity, etc.\n",
    "state_sales = combined.groupBy(\"State\").agg(\n",
    "    sum(\"Total\").alias(\"TotalSales\"),\n",
    "    sum(\"Quantity\").alias(\"TotalQuantity\")\n",
    ")\n",
    "\n",
    "# Group by source and calculate total sales, total quantity, etc.\n",
    "source_sales = combined.groupBy(\"Source\").agg(\n",
    "    sum(\"Total\").alias(\"TotalSales\"),\n",
    "    sum(\"Quantity\").alias(\"TotalQuantity\")\n",
    ")\n",
    "\n",
    "# Display or save the results as needed\n",
    "city_sales.show()"
   ]
  },
  {
   "cell_type": "code",
   "execution_count": null,
   "metadata": {
    "colab": {
     "base_uri": "https://localhost:8080/"
    },
    "id": "Qwv475NpgyTk",
    "outputId": "1d681cbb-2c6f-47dc-9237-6841e6755343"
   },
   "outputs": [
    {
     "name": "stdout",
     "output_type": "stream",
     "text": [
      "+-----+------------------+-------------+\n",
      "|State|        TotalSales|TotalQuantity|\n",
      "+-----+------------------+-------------+\n",
      "|   AZ| 6407.199291732651|        237.0|\n",
      "|   SC|29210.479408564457|       1163.0|\n",
      "|   LA|20740.508087059607|        875.0|\n",
      "|   MN| 69064.01586770012|       3056.0|\n",
      "|   NJ| 6768.687499559493|        314.0|\n",
      "|   OR| 32415.70034927819|       1487.0|\n",
      "|   VA|29211.249189820894|       1219.0|\n",
      "|   KY| 41082.72106482593|       1987.0|\n",
      "|   WY|21035.722877885597|       1009.0|\n",
      "|   NH| 2775.888499371694|         73.0|\n",
      "|   MI|52237.678569649455|       2191.0|\n",
      "|   NV| 3346.731494837816|        174.0|\n",
      "|   WI| 59732.90421633871|       2300.0|\n",
      "|   ID|17428.889547384915|        679.0|\n",
      "|   CA| 52559.37866225034|       2261.0|\n",
      "|   NE| 45512.11043736533|       1953.3|\n",
      "|   CT| 2206.771524765544|         88.0|\n",
      "|   MT|  69436.1363004223|       3310.0|\n",
      "|   NC| 48834.20587334776|       2241.0|\n",
      "|   VT|7279.1304098682795|        355.0|\n",
      "+-----+------------------+-------------+\n",
      "only showing top 20 rows\n",
      "\n"
     ]
    }
   ],
   "source": [
    "state_sales.show()"
   ]
  },
  {
   "cell_type": "code",
   "execution_count": null,
   "metadata": {
    "colab": {
     "base_uri": "https://localhost:8080/"
    },
    "id": "NlP_k4jdgz3N",
    "outputId": "8ac47a70-0297-4305-f0cd-4915d8e28899"
   },
   "outputs": [
    {
     "name": "stdout",
     "output_type": "stream",
     "text": [
      "+---------+-----------------+-------------+\n",
      "|   Source|       TotalSales|TotalQuantity|\n",
      "+---------+-----------------+-------------+\n",
      "|  Organic|319637.0497447002|      14079.0|\n",
      "|  Twitter|319448.7269814239|      13981.3|\n",
      "|   Google|325183.5607881129|      14324.0|\n",
      "|Affiliate|297605.2749875903|      12892.0|\n",
      "| Facebook|333453.5126582293|      14261.0|\n",
      "+---------+-----------------+-------------+\n",
      "\n"
     ]
    }
   ],
   "source": [
    "source_sales.show()"
   ]
  },
  {
   "cell_type": "code",
   "execution_count": null,
   "metadata": {
    "colab": {
     "base_uri": "https://localhost:8080/",
     "height": 339
    },
    "id": "xJRoJwsTiXuW",
    "outputId": "15a3a9bd-ce6b-45b6-9096-1cf652c5cae1"
   },
   "outputs": [
    {
     "ename": "AnalysisException",
     "evalue": "ignored",
     "output_type": "error",
     "traceback": [
      "\u001b[0;31m---------------------------------------------------------------------------\u001b[0m",
      "\u001b[0;31mAnalysisException\u001b[0m                         Traceback (most recent call last)",
      "\u001b[0;32m<ipython-input-20-9c7cdef2aa6c>\u001b[0m in \u001b[0;36m<cell line: 1>\u001b[0;34m()\u001b[0m\n\u001b[0;32m----> 1\u001b[0;31m \u001b[0msource_sales\u001b[0m\u001b[0;34m.\u001b[0m\u001b[0mwrite\u001b[0m\u001b[0;34m.\u001b[0m\u001b[0mcsv\u001b[0m\u001b[0;34m(\u001b[0m\u001b[0;34m'source_sales.csv'\u001b[0m\u001b[0;34m)\u001b[0m\u001b[0;34m\u001b[0m\u001b[0;34m\u001b[0m\u001b[0m\n\u001b[0m",
      "\u001b[0;32m/usr/local/lib/python3.10/dist-packages/pyspark/sql/readwriter.py\u001b[0m in \u001b[0;36mcsv\u001b[0;34m(self, path, mode, compression, sep, quote, escape, header, nullValue, escapeQuotes, quoteAll, dateFormat, timestampFormat, ignoreLeadingWhiteSpace, ignoreTrailingWhiteSpace, charToEscapeQuoteEscaping, encoding, emptyValue, lineSep)\u001b[0m\n\u001b[1;32m   1862\u001b[0m             \u001b[0mlineSep\u001b[0m\u001b[0;34m=\u001b[0m\u001b[0mlineSep\u001b[0m\u001b[0;34m,\u001b[0m\u001b[0;34m\u001b[0m\u001b[0;34m\u001b[0m\u001b[0m\n\u001b[1;32m   1863\u001b[0m         )\n\u001b[0;32m-> 1864\u001b[0;31m         \u001b[0mself\u001b[0m\u001b[0;34m.\u001b[0m\u001b[0m_jwrite\u001b[0m\u001b[0;34m.\u001b[0m\u001b[0mcsv\u001b[0m\u001b[0;34m(\u001b[0m\u001b[0mpath\u001b[0m\u001b[0;34m)\u001b[0m\u001b[0;34m\u001b[0m\u001b[0;34m\u001b[0m\u001b[0m\n\u001b[0m\u001b[1;32m   1865\u001b[0m \u001b[0;34m\u001b[0m\u001b[0m\n\u001b[1;32m   1866\u001b[0m     def orc(\n",
      "\u001b[0;32m/usr/local/lib/python3.10/dist-packages/py4j/java_gateway.py\u001b[0m in \u001b[0;36m__call__\u001b[0;34m(self, *args)\u001b[0m\n\u001b[1;32m   1320\u001b[0m \u001b[0;34m\u001b[0m\u001b[0m\n\u001b[1;32m   1321\u001b[0m         \u001b[0manswer\u001b[0m \u001b[0;34m=\u001b[0m \u001b[0mself\u001b[0m\u001b[0;34m.\u001b[0m\u001b[0mgateway_client\u001b[0m\u001b[0;34m.\u001b[0m\u001b[0msend_command\u001b[0m\u001b[0;34m(\u001b[0m\u001b[0mcommand\u001b[0m\u001b[0;34m)\u001b[0m\u001b[0;34m\u001b[0m\u001b[0;34m\u001b[0m\u001b[0m\n\u001b[0;32m-> 1322\u001b[0;31m         return_value = get_return_value(\n\u001b[0m\u001b[1;32m   1323\u001b[0m             answer, self.gateway_client, self.target_id, self.name)\n\u001b[1;32m   1324\u001b[0m \u001b[0;34m\u001b[0m\u001b[0m\n",
      "\u001b[0;32m/usr/local/lib/python3.10/dist-packages/pyspark/errors/exceptions/captured.py\u001b[0m in \u001b[0;36mdeco\u001b[0;34m(*a, **kw)\u001b[0m\n\u001b[1;32m    183\u001b[0m                 \u001b[0;31m# Hide where the exception came from that shows a non-Pythonic\u001b[0m\u001b[0;34m\u001b[0m\u001b[0;34m\u001b[0m\u001b[0m\n\u001b[1;32m    184\u001b[0m                 \u001b[0;31m# JVM exception message.\u001b[0m\u001b[0;34m\u001b[0m\u001b[0;34m\u001b[0m\u001b[0m\n\u001b[0;32m--> 185\u001b[0;31m                 \u001b[0;32mraise\u001b[0m \u001b[0mconverted\u001b[0m \u001b[0;32mfrom\u001b[0m \u001b[0;32mNone\u001b[0m\u001b[0;34m\u001b[0m\u001b[0;34m\u001b[0m\u001b[0m\n\u001b[0m\u001b[1;32m    186\u001b[0m             \u001b[0;32melse\u001b[0m\u001b[0;34m:\u001b[0m\u001b[0;34m\u001b[0m\u001b[0;34m\u001b[0m\u001b[0m\n\u001b[1;32m    187\u001b[0m                 \u001b[0;32mraise\u001b[0m\u001b[0;34m\u001b[0m\u001b[0;34m\u001b[0m\u001b[0m\n",
      "\u001b[0;31mAnalysisException\u001b[0m: [PATH_ALREADY_EXISTS] Path file:/content/source_sales.csv already exists. Set mode as \"overwrite\" to overwrite the existing path."
     ]
    }
   ],
   "source": [
    "source_sales.write.csv('source_sales.csv')"
   ]
  },
  {
   "cell_type": "code",
   "execution_count": null,
   "metadata": {
    "colab": {
     "base_uri": "https://localhost:8080/"
    },
    "id": "M4Qjce1hHvJ-",
    "outputId": "f0c6f0c2-2537-4718-b62c-7fd23a7fe3d9"
   },
   "outputs": [
    {
     "name": "stdout",
     "output_type": "stream",
     "text": [
      "+-------------------+------------------+-------------+\n",
      "|               City|        TotalSales|TotalQuantity|\n",
      "+-------------------+------------------+-------------+\n",
      "|           DeRuyter|129.74883608352175|         10.0|\n",
      "|          Fairbanks| 6389.123328767112|        253.0|\n",
      "|            Shannon|1146.4334629763896|         46.0|\n",
      "|          West York|  898.225484719706|         28.0|\n",
      "|        Springfield|2011.3425790883814|        131.0|\n",
      "|      Bowling Green| 922.9827230198426|         43.0|\n",
      "|              Ryder|  668.923028231959|         42.0|\n",
      "|            Pukwana|1509.5891761453502|         39.0|\n",
      "|         Harrisburg| 351.7789519569911|         12.0|\n",
      "|             Auburn| 324.3136506099869|         24.0|\n",
      "|        River Falls| 1455.166101687321|         76.0|\n",
      "|           Brinkley| 686.5963271362704|         31.0|\n",
      "|           Harrison| 541.3065105285232|         16.0|\n",
      "|        Kings Point|2068.5231848599797|         62.0|\n",
      "|         Wolfe City| 712.3500245452483|         17.0|\n",
      "|            Outlook|235.65146220750114|         22.0|\n",
      "|Old Bridge Township| 2633.192062019655|        130.0|\n",
      "|         Wellington| 699.7382289074462|         35.0|\n",
      "|             Ulster|129.50942306492706|          2.0|\n",
      "|             Sultan|1706.3192238347378|         61.0|\n",
      "+-------------------+------------------+-------------+\n",
      "only showing top 20 rows\n",
      "\n"
     ]
    }
   ],
   "source": [
    "from pyspark.sql import SparkSession\n",
    "from pyspark.sql.functions import sum\n",
    "\n",
    "# Initialize Spark\n",
    "spark = SparkSession.builder.appName('SalesAnalysis').getOrCreate()\n",
    "\n",
    "# Load the customers, orders, and products DataFrames (Assuming you've already loaded the data)\n",
    "\n",
    "# Join customers, orders, and products DataFrames\n",
    "# combined_df = customers.join(orders, \"ID\", \"inner\").join(products, \"ID\", \"inner\")\n",
    "\n",
    "# Group by city and calculate total sales, total quantity, etc.\n",
    "city_sales = combined.groupBy(\"City\").agg(\n",
    "    sum(\"Total\").alias(\"TotalSales\"),\n",
    "    sum(\"Quantity\").alias(\"TotalQuantity\")\n",
    ")\n",
    "\n",
    "# Group by state and calculate total sales, total quantity, etc.\n",
    "state_sales = combined.groupBy(\"State\").agg(\n",
    "    sum(\"Total\").alias(\"TotalSales\"),\n",
    "    sum(\"Quantity\").alias(\"TotalQuantity\")\n",
    ")\n",
    "\n",
    "# Group by source and calculate total sales, total quantity, etc.\n",
    "source_sales = combined.groupBy(\"Source\").agg(\n",
    "    sum(\"Total\").alias(\"TotalSales\"),\n",
    "    sum(\"Quantity\").alias(\"TotalQuantity\")\n",
    ")\n",
    "\n",
    "# Display or save the results as needed\n",
    "city_sales.show()"
   ]
  }
 ],
 "metadata": {
  "colab": {
   "provenance": []
  },
  "kernelspec": {
   "display_name": "Python 3 (ipykernel)",
   "language": "python",
   "name": "python3"
  },
  "language_info": {
   "codemirror_mode": {
    "name": "ipython",
    "version": 3
   },
   "file_extension": ".py",
   "mimetype": "text/x-python",
   "name": "python",
   "nbconvert_exporter": "python",
   "pygments_lexer": "ipython3",
   "version": "3.10.9"
  }
 },
 "nbformat": 4,
 "nbformat_minor": 1
}
